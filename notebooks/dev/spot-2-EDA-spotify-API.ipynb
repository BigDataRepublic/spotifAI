{
 "cells": [
  {
   "cell_type": "markdown",
   "id": "7ed50aae",
   "metadata": {},
   "source": [
    "# Spotify web API exploration using the spotipy package\n",
    "\n",
    "Via Spotify for developers, you'll first need to create a Client ID and a Client SECRET. Mine are in the file SECRET.py."
   ]
  },
  {
   "cell_type": "markdown",
   "id": "97df1397",
   "metadata": {},
   "source": [
    "## Connect "
   ]
  },
  {
   "cell_type": "code",
   "execution_count": 9,
   "id": "061886f9",
   "metadata": {
    "ExecuteTime": {
     "end_time": "2021-08-24T13:55:55.798774Z",
     "start_time": "2021-08-24T13:55:54.957127Z"
    }
   },
   "outputs": [],
   "source": [
    "# imports\n",
    "import spotipy\n",
    "from spotipy.oauth2 import SpotifyClientCredentials\n",
    "from SECRET import SPOTIFY_CLIENT_ID, SPOTIFY_CLIENT_SECRET, GENIUS_CLIENT_ID, GENIUS_CLIENT_SECRET, GENIUS_ACCESS_TOKEN\n",
    "import pandas as pd\n",
    "import numpy as np\n",
    "import matplotlib.pyplot as plt\n",
    "from datetime import datetime\n"
   ]
  },
  {
   "cell_type": "code",
   "execution_count": 10,
   "id": "77fa41c1",
   "metadata": {
    "ExecuteTime": {
     "end_time": "2021-08-24T13:55:55.808749Z",
     "start_time": "2021-08-24T13:55:55.805606Z"
    }
   },
   "outputs": [],
   "source": [
    "cid = SPOTIFY_CLIENT_ID\n",
    "secret = SPOTIFY_CLIENT_SECRET\n",
    "client_credentials_manager = SpotifyClientCredentials(\n",
    "    client_id=cid, client_secret=secret\n",
    ")\n",
    "spotify = spotipy.Spotify(client_credentials_manager=client_credentials_manager)"
   ]
  },
  {
   "cell_type": "markdown",
   "id": "489ff769",
   "metadata": {},
   "source": [
    "## Get data"
   ]
  },
  {
   "cell_type": "markdown",
   "id": "bf8d1177",
   "metadata": {},
   "source": [
    "Spotify works with unique identifiers for artists, tracks, playlists etc. \n",
    "\n",
    "The file below is a file I retrieved from Kaggle that holds about 80 000 artist uids."
   ]
  },
  {
   "cell_type": "code",
   "execution_count": 3,
   "id": "a2952b1e",
   "metadata": {
    "ExecuteTime": {
     "end_time": "2021-08-13T11:25:28.364967Z",
     "start_time": "2021-08-13T11:25:28.225066Z"
    }
   },
   "outputs": [
    {
     "data": {
      "text/html": [
       "<div>\n",
       "<style scoped>\n",
       "    .dataframe tbody tr th:only-of-type {\n",
       "        vertical-align: middle;\n",
       "    }\n",
       "\n",
       "    .dataframe tbody tr th {\n",
       "        vertical-align: top;\n",
       "    }\n",
       "\n",
       "    .dataframe thead th {\n",
       "        text-align: right;\n",
       "    }\n",
       "</style>\n",
       "<table border=\"1\" class=\"dataframe\">\n",
       "  <thead>\n",
       "    <tr style=\"text-align: right;\">\n",
       "      <th></th>\n",
       "      <th>artist</th>\n",
       "      <th>uid</th>\n",
       "    </tr>\n",
       "  </thead>\n",
       "  <tbody>\n",
       "    <tr>\n",
       "      <th>26026</th>\n",
       "      <td>Hayley Blake</td>\n",
       "      <td>spotify:artist:323Zm4tNhVSh8X5zEMRpDR</td>\n",
       "    </tr>\n",
       "    <tr>\n",
       "      <th>55764</th>\n",
       "      <td>Raphael Gualazzi</td>\n",
       "      <td>spotify:artist:6hu9cUsJDFg2kUkAAjOepA</td>\n",
       "    </tr>\n",
       "  </tbody>\n",
       "</table>\n",
       "</div>"
      ],
      "text/plain": [
       "                 artist                                    uid\n",
       "26026      Hayley Blake  spotify:artist:323Zm4tNhVSh8X5zEMRpDR\n",
       "55764  Raphael Gualazzi  spotify:artist:6hu9cUsJDFg2kUkAAjOepA"
      ]
     },
     "execution_count": 3,
     "metadata": {},
     "output_type": "execute_result"
    }
   ],
   "source": [
    "artists_identifiers = pd.read_csv(\"artist-uris.csv\", names=['artist', 'uid'])\n",
    "artists_identifiers = artists_identifiers.dropna()\n",
    "artists_identifiers.sample(2)"
   ]
  },
  {
   "cell_type": "code",
   "execution_count": 4,
   "id": "aece0ee0",
   "metadata": {
    "ExecuteTime": {
     "end_time": "2021-08-13T11:25:28.446651Z",
     "start_time": "2021-08-13T11:25:28.434178Z"
    }
   },
   "outputs": [
    {
     "data": {
      "text/html": [
       "<div>\n",
       "<style scoped>\n",
       "    .dataframe tbody tr th:only-of-type {\n",
       "        vertical-align: middle;\n",
       "    }\n",
       "\n",
       "    .dataframe tbody tr th {\n",
       "        vertical-align: top;\n",
       "    }\n",
       "\n",
       "    .dataframe thead th {\n",
       "        text-align: right;\n",
       "    }\n",
       "</style>\n",
       "<table border=\"1\" class=\"dataframe\">\n",
       "  <thead>\n",
       "    <tr style=\"text-align: right;\">\n",
       "      <th></th>\n",
       "      <th>artist</th>\n",
       "      <th>uid</th>\n",
       "    </tr>\n",
       "  </thead>\n",
       "  <tbody>\n",
       "    <tr>\n",
       "      <th>33572</th>\n",
       "      <td>Johnny Cash</td>\n",
       "      <td>spotify:artist:6kACVPfCOnqzgfEF5ryl0x</td>\n",
       "    </tr>\n",
       "  </tbody>\n",
       "</table>\n",
       "</div>"
      ],
      "text/plain": [
       "            artist                                    uid\n",
       "33572  Johnny Cash  spotify:artist:6kACVPfCOnqzgfEF5ryl0x"
      ]
     },
     "execution_count": 4,
     "metadata": {},
     "output_type": "execute_result"
    }
   ],
   "source": [
    "artists_identifiers.loc[artists_identifiers.artist == \"Johnny Cash\"]"
   ]
  },
  {
   "cell_type": "code",
   "execution_count": 5,
   "id": "be70c19e",
   "metadata": {
    "ExecuteTime": {
     "end_time": "2021-08-13T11:25:28.659955Z",
     "start_time": "2021-08-13T11:25:28.657567Z"
    }
   },
   "outputs": [],
   "source": [
    "cash_uri = \"spotify:artist:6kACVPfCOnqzgfEF5ryl0x\""
   ]
  },
  {
   "cell_type": "markdown",
   "id": "9220882b",
   "metadata": {},
   "source": [
    "### Get top tracks for artist"
   ]
  },
  {
   "cell_type": "code",
   "execution_count": 6,
   "id": "f499831a",
   "metadata": {
    "ExecuteTime": {
     "end_time": "2021-08-13T11:25:29.302804Z",
     "start_time": "2021-08-13T11:25:29.100505Z"
    },
    "scrolled": true
   },
   "outputs": [
    {
     "name": "stdout",
     "output_type": "stream",
     "text": [
      "track     : Hurt\n",
      "uri       : spotify:track:28cnXtME493VX9NOw9cIUh\n",
      "audio     : None\n",
      "popularity: 74\n",
      "cover art : https://i.scdn.co/image/ab67616d0000b2736f4f62da3d811b6501a69ffa\n",
      "------------\n",
      "track     : Ring of Fire\n",
      "uri       : spotify:track:6YffUZJ2R06kyxyK6onezL\n",
      "audio     : https://p.scdn.co/mp3-preview/e3bbba328a3227e0d1095f804cd73a634de8cd04?cid=206e5e7f722342d8b85b35104d6b367a\n",
      "popularity: 70\n",
      "cover art : https://i.scdn.co/image/ab67616d0000b273dfe4bfe695c4192e547e72c7\n",
      "------------\n",
      "track     : Highwayman\n",
      "uri       : spotify:track:7jWbXvrgdbkajU8L28ahn5\n",
      "audio     : https://p.scdn.co/mp3-preview/fad7aafefc453944b444407dd7f4eff196ed23da?cid=206e5e7f722342d8b85b35104d6b367a\n",
      "popularity: 69\n",
      "cover art : https://i.scdn.co/image/ab67616d0000b2735b819ab33345f5e4c7092233\n",
      "------------\n",
      "track     : Folsom Prison Blues\n",
      "uri       : spotify:track:1Vw5YUBbtlUmkhEnee55Zo\n",
      "audio     : None\n",
      "popularity: 50\n",
      "cover art : https://i.scdn.co/image/ab67616d0000b2730a0738b2cae1b731a9e273a7\n",
      "------------\n",
      "track     : I Walk The Line - Single Version\n",
      "uri       : spotify:track:6uya0AiJA1Avd4DY2XFlVm\n",
      "audio     : None\n",
      "popularity: 46\n",
      "cover art : https://i.scdn.co/image/ab67616d0000b2730a0738b2cae1b731a9e273a7\n",
      "------------\n"
     ]
    }
   ],
   "source": [
    "results = spotify.artist_top_tracks(cash_uri)\n",
    "\n",
    "for track in results[\"tracks\"][:5]:\n",
    "    print(f\"track     : {track['name']}\")\n",
    "    print(f\"uri       : {track['uri']}\")\n",
    "    print(f\"audio     : {track['preview_url']}\")\n",
    "    print(f\"popularity: {track['popularity']}\")\n",
    "    print(f\"cover art : {track['album']['images'][0]['url']}\")\n",
    "    print(\"------------\")"
   ]
  },
  {
   "cell_type": "markdown",
   "id": "0ff3116e",
   "metadata": {},
   "source": [
    "A note on popularity: \n",
    "\n",
    "The value will be between 0 and 100, with 100 being the most popular.\n",
    "The popularity of a track is a value between 0 and 100, with 100 being the most popular. The popularity is calculated by algorithm and is based, in the most part, on the total number of plays the track has had and how recent those plays are.\n",
    "Generally speaking, songs that are being played a lot now will have a higher popularity than songs that were played a lot in the past. Duplicate tracks (e.g. the same track from a single and an album) are rated independently. Artist and album popularity is derived mathematically from track popularity. Note that the popularity value may lag actual popularity by a few days: the value is not updated in real time."
   ]
  },
  {
   "cell_type": "code",
   "execution_count": 7,
   "id": "d11dead1",
   "metadata": {
    "ExecuteTime": {
     "end_time": "2021-08-13T11:25:29.350206Z",
     "start_time": "2021-08-13T11:25:29.346352Z"
    }
   },
   "outputs": [],
   "source": [
    "cash_tracks = {track['uri']:{'name':track['name'],'popularity':track['popularity']} for track in results['tracks'][:2]}"
   ]
  },
  {
   "cell_type": "markdown",
   "id": "7cb42300",
   "metadata": {},
   "source": [
    "### Get audio features"
   ]
  },
  {
   "cell_type": "markdown",
   "id": "6a9698e7",
   "metadata": {},
   "source": [
    "to find out what the features mean, refer to: https://developer.spotify.com/documentation/web-api/reference/#category-tracks and search for <b>TuneableTrackObject</b>\n"
   ]
  },
  {
   "cell_type": "code",
   "execution_count": 8,
   "id": "9ed2cd11",
   "metadata": {
    "ExecuteTime": {
     "end_time": "2021-08-13T11:25:30.089596Z",
     "start_time": "2021-08-13T11:25:30.004991Z"
    }
   },
   "outputs": [],
   "source": [
    "# compare hurt and ring of fire\n",
    "cash_audio_features = pd.DataFrame(spotify.audio_features(cash_tracks.keys()))"
   ]
  },
  {
   "cell_type": "code",
   "execution_count": 9,
   "id": "51012bcb",
   "metadata": {
    "ExecuteTime": {
     "end_time": "2021-08-13T11:25:30.373599Z",
     "start_time": "2021-08-13T11:25:30.368000Z"
    }
   },
   "outputs": [],
   "source": [
    "cash_audio_features[\"name\"] = [track[\"name\"] for track in cash_tracks.values()]\n",
    "cash_audio_features[\"popularity\"] = [\n",
    "    track[\"popularity\"] for track in cash_tracks.values()\n",
    "]\n",
    "cash_audio_features = cash_audio_features.set_index(\n",
    "    cash_audio_features[\"name\"]\n",
    ")  # set track name as index"
   ]
  },
  {
   "cell_type": "code",
   "execution_count": 10,
   "id": "f72d69b1",
   "metadata": {
    "ExecuteTime": {
     "end_time": "2021-08-13T11:25:31.041404Z",
     "start_time": "2021-08-13T11:25:31.026004Z"
    }
   },
   "outputs": [
    {
     "data": {
      "text/html": [
       "<div>\n",
       "<style scoped>\n",
       "    .dataframe tbody tr th:only-of-type {\n",
       "        vertical-align: middle;\n",
       "    }\n",
       "\n",
       "    .dataframe tbody tr th {\n",
       "        vertical-align: top;\n",
       "    }\n",
       "\n",
       "    .dataframe thead th {\n",
       "        text-align: right;\n",
       "    }\n",
       "</style>\n",
       "<table border=\"1\" class=\"dataframe\">\n",
       "  <thead>\n",
       "    <tr style=\"text-align: right;\">\n",
       "      <th></th>\n",
       "      <th>danceability</th>\n",
       "      <th>energy</th>\n",
       "      <th>key</th>\n",
       "      <th>loudness</th>\n",
       "      <th>mode</th>\n",
       "      <th>speechiness</th>\n",
       "      <th>acousticness</th>\n",
       "      <th>instrumentalness</th>\n",
       "      <th>liveness</th>\n",
       "      <th>valence</th>\n",
       "      <th>tempo</th>\n",
       "      <th>type</th>\n",
       "      <th>id</th>\n",
       "      <th>uri</th>\n",
       "      <th>track_href</th>\n",
       "      <th>analysis_url</th>\n",
       "      <th>duration_ms</th>\n",
       "      <th>time_signature</th>\n",
       "      <th>name</th>\n",
       "      <th>popularity</th>\n",
       "    </tr>\n",
       "    <tr>\n",
       "      <th>name</th>\n",
       "      <th></th>\n",
       "      <th></th>\n",
       "      <th></th>\n",
       "      <th></th>\n",
       "      <th></th>\n",
       "      <th></th>\n",
       "      <th></th>\n",
       "      <th></th>\n",
       "      <th></th>\n",
       "      <th></th>\n",
       "      <th></th>\n",
       "      <th></th>\n",
       "      <th></th>\n",
       "      <th></th>\n",
       "      <th></th>\n",
       "      <th></th>\n",
       "      <th></th>\n",
       "      <th></th>\n",
       "      <th></th>\n",
       "      <th></th>\n",
       "    </tr>\n",
       "  </thead>\n",
       "  <tbody>\n",
       "    <tr>\n",
       "      <th>Hurt</th>\n",
       "      <td>0.534</td>\n",
       "      <td>0.392</td>\n",
       "      <td>9</td>\n",
       "      <td>-7.636</td>\n",
       "      <td>0</td>\n",
       "      <td>0.0267</td>\n",
       "      <td>0.649</td>\n",
       "      <td>0.000227</td>\n",
       "      <td>0.0948</td>\n",
       "      <td>0.163</td>\n",
       "      <td>90.379</td>\n",
       "      <td>audio_features</td>\n",
       "      <td>28cnXtME493VX9NOw9cIUh</td>\n",
       "      <td>spotify:track:28cnXtME493VX9NOw9cIUh</td>\n",
       "      <td>https://api.spotify.com/v1/tracks/28cnXtME493V...</td>\n",
       "      <td>https://api.spotify.com/v1/audio-analysis/28cn...</td>\n",
       "      <td>216533</td>\n",
       "      <td>4</td>\n",
       "      <td>Hurt</td>\n",
       "      <td>74</td>\n",
       "    </tr>\n",
       "    <tr>\n",
       "      <th>Ring of Fire</th>\n",
       "      <td>0.659</td>\n",
       "      <td>0.585</td>\n",
       "      <td>7</td>\n",
       "      <td>-8.189</td>\n",
       "      <td>1</td>\n",
       "      <td>0.0288</td>\n",
       "      <td>0.623</td>\n",
       "      <td>0.000213</td>\n",
       "      <td>0.3480</td>\n",
       "      <td>0.784</td>\n",
       "      <td>104.111</td>\n",
       "      <td>audio_features</td>\n",
       "      <td>6YffUZJ2R06kyxyK6onezL</td>\n",
       "      <td>spotify:track:6YffUZJ2R06kyxyK6onezL</td>\n",
       "      <td>https://api.spotify.com/v1/tracks/6YffUZJ2R06k...</td>\n",
       "      <td>https://api.spotify.com/v1/audio-analysis/6Yff...</td>\n",
       "      <td>158427</td>\n",
       "      <td>4</td>\n",
       "      <td>Ring of Fire</td>\n",
       "      <td>70</td>\n",
       "    </tr>\n",
       "  </tbody>\n",
       "</table>\n",
       "</div>"
      ],
      "text/plain": [
       "              danceability  energy  key  loudness  mode  speechiness  \\\n",
       "name                                                                   \n",
       "Hurt                 0.534   0.392    9    -7.636     0       0.0267   \n",
       "Ring of Fire         0.659   0.585    7    -8.189     1       0.0288   \n",
       "\n",
       "              acousticness  instrumentalness  liveness  valence    tempo  \\\n",
       "name                                                                       \n",
       "Hurt                 0.649          0.000227    0.0948    0.163   90.379   \n",
       "Ring of Fire         0.623          0.000213    0.3480    0.784  104.111   \n",
       "\n",
       "                        type                      id  \\\n",
       "name                                                   \n",
       "Hurt          audio_features  28cnXtME493VX9NOw9cIUh   \n",
       "Ring of Fire  audio_features  6YffUZJ2R06kyxyK6onezL   \n",
       "\n",
       "                                               uri  \\\n",
       "name                                                 \n",
       "Hurt          spotify:track:28cnXtME493VX9NOw9cIUh   \n",
       "Ring of Fire  spotify:track:6YffUZJ2R06kyxyK6onezL   \n",
       "\n",
       "                                                     track_href  \\\n",
       "name                                                              \n",
       "Hurt          https://api.spotify.com/v1/tracks/28cnXtME493V...   \n",
       "Ring of Fire  https://api.spotify.com/v1/tracks/6YffUZJ2R06k...   \n",
       "\n",
       "                                                   analysis_url  duration_ms  \\\n",
       "name                                                                           \n",
       "Hurt          https://api.spotify.com/v1/audio-analysis/28cn...       216533   \n",
       "Ring of Fire  https://api.spotify.com/v1/audio-analysis/6Yff...       158427   \n",
       "\n",
       "              time_signature          name  popularity  \n",
       "name                                                    \n",
       "Hurt                       4          Hurt          74  \n",
       "Ring of Fire               4  Ring of Fire          70  "
      ]
     },
     "execution_count": 10,
     "metadata": {},
     "output_type": "execute_result"
    }
   ],
   "source": [
    "cash_audio_features"
   ]
  },
  {
   "cell_type": "markdown",
   "id": "21c0ccdc",
   "metadata": {},
   "source": [
    "Let's visualize this"
   ]
  },
  {
   "cell_type": "code",
   "execution_count": 11,
   "id": "7a634407",
   "metadata": {
    "ExecuteTime": {
     "end_time": "2021-08-13T11:25:32.366696Z",
     "start_time": "2021-08-13T11:25:31.917946Z"
    },
    "scrolled": true
   },
   "outputs": [
    {
     "data": {
      "image/png": "[encoded data removed]",
      "text/plain": [
       "<Figure size 1440x1440 with 1 Axes>"
      ]
     },
     "metadata": {
      "needs_background": "light"
     },
     "output_type": "display_data"
    }
   ],
   "source": [
    "visualize_features = [\n",
    "    \"danceability\",\n",
    "    \"energy\",\n",
    "    \"speechiness\",\n",
    "    \"acousticness\",\n",
    "    \"liveness\",\n",
    "    \"valence\",\n",
    "]\n",
    "\n",
    "angles = np.linspace(0, 2 * np.pi, len(visualize_features), endpoint=False)\n",
    "fig = plt.figure(figsize=(20, 20))\n",
    "\n",
    "\n",
    "Hurt_features = cash_audio_features[visualize_features].loc[\"Hurt\"].values\n",
    "Ring_of_Fire_features = (\n",
    "    cash_audio_features[visualize_features].loc[\"Ring of Fire\"].values\n",
    ")\n",
    "\n",
    "ax = fig.add_subplot(221, polar=True)\n",
    "ax.plot(\n",
    "    angles, Hurt_features, \"o-\", linewidth=2, label=\"Johnny Cash - Hurt\", color=\"blue\"\n",
    ")\n",
    "ax.fill(angles, Hurt_features, alpha=0.25, facecolor=\"blue\")\n",
    "ax.set_thetagrids(\n",
    "    angles * 180 / np.pi, visualize_features, fontsize=15, fontweight=\"bold\"\n",
    ")\n",
    "\n",
    "ax.set_rlabel_position(250)\n",
    "plt.yticks(\n",
    "    [0.1, 0.2, 0.3, 0.4, 0.5, 0.6, 0.7, 0.8, 0.9, 1.0],\n",
    "    [\"0.1\", \"0.2\", \"0.3\", \"0.4\", \"0.5\", \"0.6\", \"0.7\", \"0.8\", \"0.9\", \"1.0\"],\n",
    "    size=12,\n",
    ")\n",
    "plt.ylim(0, 1)\n",
    "\n",
    "ax.plot(\n",
    "    angles,\n",
    "    Ring_of_Fire_features,\n",
    "    \"o-\",\n",
    "    linewidth=2,\n",
    "    label=\"Johnny Cash - Ring of Fire\",\n",
    "    color=\"orange\",\n",
    ")\n",
    "ax.fill(angles, Ring_of_Fire_features, alpha=0.25, facecolor=\"orange\")\n",
    "ax.set_title(\"Comparison of audio features of popular Johnny Cash songs\", fontsize=18)\n",
    "ax.grid(True)\n",
    "\n",
    "plt.legend(loc=\"best\", bbox_to_anchor=(0.1, 0.1), fontsize=14)"
   ]
  },
  {
   "cell_type": "code",
   "execution_count": 12,
   "id": "21ec0e0f",
   "metadata": {
    "ExecuteTime": {
     "end_time": "2021-08-13T11:25:33.143327Z",
     "start_time": "2021-08-13T11:25:33.140772Z"
    }
   },
   "outputs": [],
   "source": [
    "# spotify.audio_analysis('spotify:track:28cnXtME493VX9NOw9cIUh') # extensive analysis of different chunks in single track"
   ]
  },
  {
   "cell_type": "markdown",
   "id": "b5b8a9d1",
   "metadata": {},
   "source": [
    "### Get song lyrics using the Genius API"
   ]
  },
  {
   "cell_type": "code",
   "execution_count": 13,
   "id": "9060ec52",
   "metadata": {
    "ExecuteTime": {
     "end_time": "2021-08-13T11:25:43.291339Z",
     "start_time": "2021-08-13T11:25:43.211688Z"
    }
   },
   "outputs": [],
   "source": [
    "import lyricsgenius\n",
    "genius = lyricsgenius.Genius(GENIUS_ACCESS_TOKEN)"
   ]
  },
  {
   "cell_type": "code",
   "execution_count": 22,
   "id": "bfa999cd",
   "metadata": {
    "ExecuteTime": {
     "end_time": "2021-08-13T13:02:39.043637Z",
     "start_time": "2021-08-13T13:02:36.244196Z"
    }
   },
   "outputs": [
    {
     "name": "stdout",
     "output_type": "stream",
     "text": [
      "Searching for \"Hurt\" by Johnny Cash...\n",
      "Done.\n"
     ]
    },
    {
     "data": {
      "text/plain": [
       "\"[Produced by Rick Rubin]\\n\\n[Verse 1]\\nI hurt myself today\\nTo see if I still feel\\nI focus on the pain\\nThe only thing that's real\\nThe needle tears a hole\\nThe old familiar sting\\nTry to kill it all away\\nBut I remember everything\\n\\n[Chorus]\\nWhat have I become\\nMy sweetest friend?\\nEveryone I know\\nGoes away in the end\\nAnd you could have it all\\nMy empire of dirt\\nI will let you down\\nI will make you hurt\\n\\n[Verse 2]\\nI wear this crown of thorns\\nUpon my liar's chair\\nFull of broken thoughts\\nI cannot repair\\nBeneath the stains of time\\nThe feelings disappear\\nYou are someone else\\nI am still right here\\n[Chorus]\\nWhat have I become\\nMy sweetest friend?\\nEveryone I know\\nGoes away in the end\\nAnd you could have it all\\nMy empire of dirt\\nI will let you down\\nI will make you hurt\\n\\n[Outro]\\nIf I could start again\\nA million miles away\\nI would keep myself\\nI would find a way136EmbedShare URLCopyEmbedCopy\""
      ]
     },
     "execution_count": 22,
     "metadata": {},
     "output_type": "execute_result"
    }
   ],
   "source": [
    "song = genius.search_song(\"Hurt\", \"Johnny Cash\")\n",
    "song.lyrics"
   ]
  },
  {
   "cell_type": "code",
   "execution_count": 20,
   "id": "29b4694e",
   "metadata": {
    "ExecuteTime": {
     "end_time": "2021-08-13T11:29:02.520589Z",
     "start_time": "2021-08-13T11:28:54.952771Z"
    }
   },
   "outputs": [
    {
     "name": "stdout",
     "output_type": "stream",
     "text": [
      "Searching for \"Ring of Fire\" by Johnny Cash...\n",
      "Done.\n"
     ]
    }
   ],
   "source": [
    "song2 = genius.search_song(\"Ring of Fire\", \"Johnny Cash\")\n"
   ]
  },
  {
   "cell_type": "code",
   "execution_count": 21,
   "id": "8410d8b0",
   "metadata": {
    "ExecuteTime": {
     "end_time": "2021-08-13T11:29:10.829127Z",
     "start_time": "2021-08-13T11:29:10.825386Z"
    }
   },
   "outputs": [
    {
     "data": {
      "text/plain": [
       "'[Verse 1]\\nLove is a burning thing\\nAnd it makes a fiery ring\\nBound by wild desire\\nI fell in to a ring of fire\\n\\n[Chorus]\\nI fell into a burning ring of fire\\nI went down, down, down\\nAnd the flames went higher\\nAnd it burns, burns, burns\\nThe ring of fire\\nThe ring of fire\\nI fell into a burning ring of fire\\nI went down, down, down\\nAnd the flames went higher\\nAnd it burns, burns, burns\\nThe ring of fire\\nThe ring of fire\\n\\n[Verse 2]\\nThe taste of love is sweet\\nWhen hearts like ours meet\\nI fell for you like a child\\nOh, but the fire went wild\\n[Chorus]\\nI fell in to a burning ring of fire\\nI went down, down, down\\nAnd the flames went higher\\nAnd it burns, burns, burns\\nThe ring of fire\\nThe ring of fire\\nI fell into a burning ring of fire\\nI went down, down, down\\nAnd the flames went higher\\nAnd it burns, burns, burns\\nThe ring of fire\\nThe ring of fire\\n\\n[Outro]\\nAnd it burns, burns, burns\\nThe ring of fire\\nThe ring of fire\\nThe ring of fire\\nThe ring of fire\\nThe ring of fire\\nThe ring...14EmbedShare URLCopyEmbedCopy'"
      ]
     },
     "execution_count": 21,
     "metadata": {},
     "output_type": "execute_result"
    }
   ],
   "source": [
    "song2.lyrics"
   ]
  },
  {
   "cell_type": "code",
   "execution_count": 17,
   "id": "4addb0f7",
   "metadata": {
    "ExecuteTime": {
     "end_time": "2021-08-13T11:27:06.547696Z",
     "start_time": "2021-08-13T11:27:06.542053Z"
    },
    "scrolled": true
   },
   "outputs": [
    {
     "data": {
      "text/plain": [
       "{'id': 85072,\n",
       " '_body': {'_type': 'song',\n",
       "  'annotation_count': 15,\n",
       "  'api_path': '/songs/85072',\n",
       "  'full_title': 'Hurt by\\xa0Johnny\\xa0Cash',\n",
       "  'header_image_thumbnail_url': 'https://images.genius.com/1741fd60e38db6d35731f03d95fa6458.300x300x1.jpg',\n",
       "  'header_image_url': 'https://images.genius.com/1741fd60e38db6d35731f03d95fa6458.1000x1000x1.jpg',\n",
       "  'id': 85072,\n",
       "  'instrumental': False,\n",
       "  'lyrics_owner_id': 5,\n",
       "  'lyrics_state': 'complete',\n",
       "  'lyrics_updated_at': 1557861818,\n",
       "  'path': '/Johnny-cash-hurt-lyrics',\n",
       "  'pyongs_count': 136,\n",
       "  'song_art_image_thumbnail_url': 'https://images.genius.com/3efa8083445d42bdc57e376286260abd.300x300x1.jpg',\n",
       "  'song_art_image_url': 'https://images.genius.com/3efa8083445d42bdc57e376286260abd.500x500x1.jpg',\n",
       "  'stats': {'unreviewed_annotations': 0, 'hot': False, 'pageviews': 861879},\n",
       "  'title': 'Hurt',\n",
       "  'title_with_featured': 'Hurt',\n",
       "  'updated_by_human_at': 1616211855,\n",
       "  'url': 'https://genius.com/Johnny-cash-hurt-lyrics',\n",
       "  'song_art_primary_color': '#976777',\n",
       "  'song_art_secondary_color': '#4e353e',\n",
       "  'song_art_text_color': '#fff',\n",
       "  'primary_artist': {'_type': 'artist',\n",
       "   'api_path': '/artists/1167',\n",
       "   'header_image_url': 'https://images.genius.com/3464538f1e56018d8ccdff74d498151e.851x315x1.jpg',\n",
       "   'id': 1167,\n",
       "   'image_url': 'https://images.genius.com/8224b091329111c50fbe9070d5d23ea3.736x736x1.jpg',\n",
       "   'index_character': 'j',\n",
       "   'is_meme_verified': False,\n",
       "   'is_verified': False,\n",
       "   'name': 'Johnny Cash',\n",
       "   'slug': 'Johnny-cash',\n",
       "   'url': 'https://genius.com/artists/Johnny-cash'}},\n",
       " '_client': <lyricsgenius.genius.Genius at 0x7f9464e1a3d0>,\n",
       " 'artist': 'Johnny Cash',\n",
       " 'lyrics': \"[Produced by Rick Rubin]\\n\\n[Verse 1]\\nI hurt myself today\\nTo see if I still feel\\nI focus on the pain\\nThe only thing that's real\\nThe needle tears a hole\\nThe old familiar sting\\nTry to kill it all away\\nBut I remember everything\\n\\n[Chorus]\\nWhat have I become\\nMy sweetest friend?\\nEveryone I know\\nGoes away in the end\\nAnd you could have it all\\nMy empire of dirt\\nI will let you down\\nI will make you hurt\\n\\n[Verse 2]\\nI wear this crown of thorns\\nUpon my liar's chair\\nFull of broken thoughts\\nI cannot repair\\nBeneath the stains of time\\nThe feelings disappear\\nYou are someone else\\nI am still right here\\n[Chorus]\\nWhat have I become\\nMy sweetest friend?\\nEveryone I know\\nGoes away in the end\\nAnd you could have it all\\nMy empire of dirt\\nI will let you down\\nI will make you hurt\\n\\n[Outro]\\nIf I could start again\\nA million miles away\\nI would keep myself\\nI would find a way136EmbedShare URLCopyEmbedCopy\",\n",
       " 'primary_artist': Artist(id, songs, ...),\n",
       " 'stats': Stats('unreviewed_annotations, hot, pageviews'),\n",
       " 'annotation_count': 15,\n",
       " 'api_path': '/songs/85072',\n",
       " 'full_title': 'Hurt by\\xa0Johnny\\xa0Cash',\n",
       " 'header_image_thumbnail_url': 'https://images.genius.com/1741fd60e38db6d35731f03d95fa6458.300x300x1.jpg',\n",
       " 'header_image_url': 'https://images.genius.com/1741fd60e38db6d35731f03d95fa6458.1000x1000x1.jpg',\n",
       " 'lyrics_owner_id': 5,\n",
       " 'lyrics_state': 'complete',\n",
       " 'path': '/Johnny-cash-hurt-lyrics',\n",
       " 'pyongs_count': 136,\n",
       " 'song_art_image_thumbnail_url': 'https://images.genius.com/3efa8083445d42bdc57e376286260abd.300x300x1.jpg',\n",
       " 'song_art_image_url': 'https://images.genius.com/3efa8083445d42bdc57e376286260abd.500x500x1.jpg',\n",
       " 'title': 'Hurt',\n",
       " 'title_with_featured': 'Hurt',\n",
       " 'url': 'https://genius.com/Johnny-cash-hurt-lyrics'}"
      ]
     },
     "execution_count": 17,
     "metadata": {},
     "output_type": "execute_result"
    }
   ],
   "source": [
    "vars(song)[]"
   ]
  },
  {
   "cell_type": "markdown",
   "id": "3f90728c",
   "metadata": {},
   "source": [
    "### Get a popular playlist\n",
    "The top 50 global: https://open.spotify.com/playlist/37i9dQZEVXbMDoHDwVN2tF?si=2afa3c8931b84b60.\n",
    "\n",
    "This playlist is updated daily"
   ]
  },
  {
   "cell_type": "code",
   "execution_count": 137,
   "id": "f3a65dce",
   "metadata": {
    "ExecuteTime": {
     "end_time": "2021-08-18T13:01:36.306752Z",
     "start_time": "2021-08-18T13:01:36.092785Z"
    }
   },
   "outputs": [],
   "source": [
    "playlist_url = (\n",
    "    \"https://open.spotify.com/playlist/37i9dQZEVXbMDoHDwVN2tF?si=2afa3c8931b84b60\"\n",
    ")\n",
    "\n",
    "# query tracks of playlist\n",
    "track_dicts = spotify.playlist(playlist_url)[\"tracks\"][\"items\"]\n",
    "\n",
    "# initialize dataframe\n",
    "playlist_df = pd.DataFrame(\n",
    "    columns=[\n",
    "        \"date_of_scrape\",\n",
    "        \"artist\",\n",
    "        \"name\",\n",
    "        \"track_id\",\n",
    "        \"position\",\n",
    "        \"popularity\",\n",
    "        \"date_added\",\n",
    "        \"preview_url\",\n",
    "        \"spotify_url\",\n",
    "    ]\n",
    ")\n",
    "\n",
    "\n",
    "for index, track_dict in enumerate(track_dicts):\n",
    "\n",
    "    date_added = track_dict[\"added_at\"].split(\"T\")[0]\n",
    "    position = index + 1\n",
    "\n",
    "    # all other interesting variables are inside the 'track' dict\n",
    "    track_dict = track_dict[\"track\"]\n",
    "\n",
    "    track_id = track_dict[\"id\"]\n",
    "    track_artist = \" ft. \".join(\n",
    "        [artist_dict[\"name\"] for artist_dict in track_dict[\"artists\"]]\n",
    "    )\n",
    "    track_name = track_dict[\"name\"]\n",
    "    popularity = track_dict[\"popularity\"]\n",
    "    preview_url = track_dict[\"preview_url\"]\n",
    "    spotify_url = track_dict[\"external_urls\"][\"spotify\"]\n",
    "\n",
    "    row_dict = {\n",
    "        \"track_id\": [track_id],\n",
    "        \"artist\": [track_artist],\n",
    "        \"name\": [track_name],\n",
    "        \"position\": [position],\n",
    "        \"popularity\": [popularity],\n",
    "        \"date_added\": [date_added],\n",
    "        \"preview_url\": [preview_url],\n",
    "        \"spotify_url\": [spotify_url],\n",
    "    }\n",
    "\n",
    "    row_df = pd.DataFrame(row_dict)\n",
    "\n",
    "    playlist_df = playlist_df.append(row_df)\n",
    "\n",
    "playlist_df[\"date_of_scrape\"] = datetime.today().date()"
   ]
  },
  {
   "cell_type": "code",
   "execution_count": 139,
   "id": "cf6ea4a3",
   "metadata": {
    "ExecuteTime": {
     "end_time": "2021-08-18T13:02:02.428151Z",
     "start_time": "2021-08-18T13:02:02.417590Z"
    }
   },
   "outputs": [
    {
     "data": {
      "text/html": [
       "<div>\n",
       "<style scoped>\n",
       "    .dataframe tbody tr th:only-of-type {\n",
       "        vertical-align: middle;\n",
       "    }\n",
       "\n",
       "    .dataframe tbody tr th {\n",
       "        vertical-align: top;\n",
       "    }\n",
       "\n",
       "    .dataframe thead th {\n",
       "        text-align: right;\n",
       "    }\n",
       "</style>\n",
       "<table border=\"1\" class=\"dataframe\">\n",
       "  <thead>\n",
       "    <tr style=\"text-align: right;\">\n",
       "      <th></th>\n",
       "      <th>date_of_scrape</th>\n",
       "      <th>artist</th>\n",
       "      <th>name</th>\n",
       "      <th>track_id</th>\n",
       "      <th>position</th>\n",
       "      <th>popularity</th>\n",
       "      <th>date_added</th>\n",
       "      <th>preview_url</th>\n",
       "      <th>spotify_url</th>\n",
       "    </tr>\n",
       "  </thead>\n",
       "  <tbody>\n",
       "    <tr>\n",
       "      <th>0</th>\n",
       "      <td>2021-08-18</td>\n",
       "      <td>The Kid LAROI ft. Justin Bieber</td>\n",
       "      <td>STAY (with Justin Bieber)</td>\n",
       "      <td>5PjdY0CKGZdEuoNab3yDmX</td>\n",
       "      <td>1</td>\n",
       "      <td>89</td>\n",
       "      <td>2021-08-17</td>\n",
       "      <td>https://p.scdn.co/mp3-preview/dd4d8d66b97b6edc...</td>\n",
       "      <td>https://open.spotify.com/track/5PjdY0CKGZdEuoN...</td>\n",
       "    </tr>\n",
       "    <tr>\n",
       "      <th>0</th>\n",
       "      <td>2021-08-18</td>\n",
       "      <td>Lil Nas X ft. Jack Harlow</td>\n",
       "      <td>INDUSTRY BABY (feat. Jack Harlow)</td>\n",
       "      <td>27NovPIUIRrOZoCHxABJwK</td>\n",
       "      <td>2</td>\n",
       "      <td>97</td>\n",
       "      <td>2021-08-17</td>\n",
       "      <td>https://p.scdn.co/mp3-preview/406f8a854c3a2a3a...</td>\n",
       "      <td>https://open.spotify.com/track/27NovPIUIRrOZoC...</td>\n",
       "    </tr>\n",
       "    <tr>\n",
       "      <th>0</th>\n",
       "      <td>2021-08-18</td>\n",
       "      <td>Måneskin</td>\n",
       "      <td>Beggin'</td>\n",
       "      <td>3Wrjm47oTz2sjIgck11l5e</td>\n",
       "      <td>3</td>\n",
       "      <td>100</td>\n",
       "      <td>2021-08-17</td>\n",
       "      <td>https://p.scdn.co/mp3-preview/c956a56a9a3103ad...</td>\n",
       "      <td>https://open.spotify.com/track/3Wrjm47oTz2sjIg...</td>\n",
       "    </tr>\n",
       "    <tr>\n",
       "      <th>0</th>\n",
       "      <td>2021-08-18</td>\n",
       "      <td>Ed Sheeran</td>\n",
       "      <td>Bad Habits</td>\n",
       "      <td>6PQ88X9TkUIAUIZJHW2upE</td>\n",
       "      <td>4</td>\n",
       "      <td>98</td>\n",
       "      <td>2021-08-17</td>\n",
       "      <td>https://p.scdn.co/mp3-preview/0e537207ad0fff8c...</td>\n",
       "      <td>https://open.spotify.com/track/6PQ88X9TkUIAUIZ...</td>\n",
       "    </tr>\n",
       "    <tr>\n",
       "      <th>0</th>\n",
       "      <td>2021-08-18</td>\n",
       "      <td>Olivia Rodrigo</td>\n",
       "      <td>good 4 u</td>\n",
       "      <td>4ZtFanR9U6ndgddUvNcjcG</td>\n",
       "      <td>5</td>\n",
       "      <td>99</td>\n",
       "      <td>2021-08-17</td>\n",
       "      <td>None</td>\n",
       "      <td>https://open.spotify.com/track/4ZtFanR9U6ndgdd...</td>\n",
       "    </tr>\n",
       "  </tbody>\n",
       "</table>\n",
       "</div>"
      ],
      "text/plain": [
       "  date_of_scrape                           artist  \\\n",
       "0     2021-08-18  The Kid LAROI ft. Justin Bieber   \n",
       "0     2021-08-18        Lil Nas X ft. Jack Harlow   \n",
       "0     2021-08-18                         Måneskin   \n",
       "0     2021-08-18                       Ed Sheeran   \n",
       "0     2021-08-18                   Olivia Rodrigo   \n",
       "\n",
       "                                name                track_id position  \\\n",
       "0          STAY (with Justin Bieber)  5PjdY0CKGZdEuoNab3yDmX        1   \n",
       "0  INDUSTRY BABY (feat. Jack Harlow)  27NovPIUIRrOZoCHxABJwK        2   \n",
       "0                            Beggin'  3Wrjm47oTz2sjIgck11l5e        3   \n",
       "0                         Bad Habits  6PQ88X9TkUIAUIZJHW2upE        4   \n",
       "0                           good 4 u  4ZtFanR9U6ndgddUvNcjcG        5   \n",
       "\n",
       "  popularity  date_added                                        preview_url  \\\n",
       "0         89  2021-08-17  https://p.scdn.co/mp3-preview/dd4d8d66b97b6edc...   \n",
       "0         97  2021-08-17  https://p.scdn.co/mp3-preview/406f8a854c3a2a3a...   \n",
       "0        100  2021-08-17  https://p.scdn.co/mp3-preview/c956a56a9a3103ad...   \n",
       "0         98  2021-08-17  https://p.scdn.co/mp3-preview/0e537207ad0fff8c...   \n",
       "0         99  2021-08-17                                               None   \n",
       "\n",
       "                                         spotify_url  \n",
       "0  https://open.spotify.com/track/5PjdY0CKGZdEuoN...  \n",
       "0  https://open.spotify.com/track/27NovPIUIRrOZoC...  \n",
       "0  https://open.spotify.com/track/3Wrjm47oTz2sjIg...  \n",
       "0  https://open.spotify.com/track/6PQ88X9TkUIAUIZ...  \n",
       "0  https://open.spotify.com/track/4ZtFanR9U6ndgdd...  "
      ]
     },
     "execution_count": 139,
     "metadata": {},
     "output_type": "execute_result"
    }
   ],
   "source": [
    "playlist_df.head()"
   ]
  },
  {
   "cell_type": "markdown",
   "id": "9887a18c",
   "metadata": {},
   "source": [
    "### Get new releases"
   ]
  },
  {
   "cell_type": "markdown",
   "id": "f68b315b",
   "metadata": {},
   "source": [
    "Get a list of new album releases featured in Spotify. \n",
    "\n",
    "The parameter 'offset' can be used to define the index of what you want to have returned, so, if you query new releases multiple times, make sure to increment offset with the limit. "
   ]
  },
  {
   "cell_type": "code",
   "execution_count": 162,
   "id": "888593e0",
   "metadata": {
    "ExecuteTime": {
     "end_time": "2021-08-18T13:15:42.114510Z",
     "start_time": "2021-08-18T13:15:41.913713Z"
    }
   },
   "outputs": [],
   "source": [
    "new_releases_album_uris = [album['uri'] for album in spotify.new_releases(limit=50)['albums']['items']] # maximum limit \n",
    "\n",
    "# initialize new_releases_df\n",
    "new_releases_df = pd.DataFrame(\n",
    "    columns=[\n",
    "        \"date_of_scrape\",\n",
    "        \"artist\",\n",
    "        \"name\",\n",
    "        \"track_id\",\n",
    "        \"popularity\",\n",
    "        \"preview_url\",\n",
    "        \"spotify_url\",\n",
    "        \"danceability\",\n",
    "        \"energy\",\n",
    "        \"key\",\n",
    "        \"loudness\",\n",
    "        \"mode\",\n",
    "        \"speechiness\",\n",
    "        \"acousticness\",\n",
    "        \"instrumentalness\",\n",
    "        \"liveness\",\n",
    "        \"valence\",\n",
    "        \"tempo\",\n",
    "        \"duration_ms\",\n",
    "    ]\n",
    ")\n",
    "\n",
    "audio_features = [\n",
    "    \"danceability\",\n",
    "    \"energy\",\n",
    "    \"key\",\n",
    "    \"loudness\",\n",
    "    \"mode\",\n",
    "    \"speechiness\",\n",
    "    \"acousticness\",\n",
    "    \"instrumentalness\",\n",
    "    \"liveness\",\n",
    "    \"valence\",\n",
    "    \"tempo\",\n",
    "    \"duration_ms\",\n",
    "]\n",
    "\n",
    "for album_uri in new_releases_album_uris:\n",
    "    album_tracks = spotify.album_tracks(album_uri)[\"items\"]\n",
    "\n",
    "    for track in album_tracks:\n",
    "        track_id = track[\"id\"]\n",
    "        track_artist = \" ft. \".join(\n",
    "            [artist_dict[\"name\"] for artist_dict in track[\"artists\"]]\n",
    "        )\n",
    "        track_name = track[\"name\"]\n",
    "        popularity = spotify.track(track_id)[\"popularity\"]\n",
    "        preview_url = track[\"preview_url\"]\n",
    "        spotify_url = track[\"external_urls\"][\"spotify\"]\n",
    "\n",
    "        row_dict = {\n",
    "            \"track_id\": [track_id],\n",
    "            \"artist\": [track_artist],\n",
    "            \"name\": [track_name],\n",
    "            \"popularity\": [popularity],\n",
    "            \"preview_url\": [preview_url],\n",
    "            \"spotify_url\": [spotify_url],\n",
    "        }\n",
    "        \n",
    "        track_features = pd.DataFrame(spotify.audio_features(track[\"id\"]))[\n",
    "            audio_features\n",
    "        ]\n",
    "        \n",
    "        row_df = pd.DataFrame(row_dict)\n",
    "        \n",
    "        new_releases_df = new_releases_df.append(pd.concat([row_df, track_features], axis=1))\n",
    "\n",
    "new_releases_df[\"date_of_scrape\"] = datetime.today().date()"
   ]
  },
  {
   "cell_type": "code",
   "execution_count": 224,
   "id": "214c990e",
   "metadata": {
    "ExecuteTime": {
     "end_time": "2021-08-18T14:56:38.597482Z",
     "start_time": "2021-08-18T14:56:38.568115Z"
    },
    "scrolled": true
   },
   "outputs": [
    {
     "data": {
      "text/html": [
       "<div>\n",
       "<style scoped>\n",
       "    .dataframe tbody tr th:only-of-type {\n",
       "        vertical-align: middle;\n",
       "    }\n",
       "\n",
       "    .dataframe tbody tr th {\n",
       "        vertical-align: top;\n",
       "    }\n",
       "\n",
       "    .dataframe thead th {\n",
       "        text-align: right;\n",
       "    }\n",
       "</style>\n",
       "<table border=\"1\" class=\"dataframe\">\n",
       "  <thead>\n",
       "    <tr style=\"text-align: right;\">\n",
       "      <th></th>\n",
       "      <th>date_of_scrape</th>\n",
       "      <th>artist</th>\n",
       "      <th>name</th>\n",
       "      <th>track_id</th>\n",
       "      <th>popularity</th>\n",
       "      <th>preview_url</th>\n",
       "      <th>spotify_url</th>\n",
       "      <th>danceability</th>\n",
       "      <th>energy</th>\n",
       "      <th>key</th>\n",
       "      <th>loudness</th>\n",
       "      <th>mode</th>\n",
       "      <th>speechiness</th>\n",
       "      <th>acousticness</th>\n",
       "      <th>instrumentalness</th>\n",
       "      <th>liveness</th>\n",
       "      <th>valence</th>\n",
       "      <th>tempo</th>\n",
       "      <th>duration_ms</th>\n",
       "    </tr>\n",
       "  </thead>\n",
       "  <tbody>\n",
       "    <tr>\n",
       "      <th>0</th>\n",
       "      <td>2021-08-18</td>\n",
       "      <td>Lizzo ft. Cardi B</td>\n",
       "      <td>Rumors (feat. Cardi B)</td>\n",
       "      <td>6KgtcmCF9Ky68XC7ezxl3s</td>\n",
       "      <td>81</td>\n",
       "      <td>https://p.scdn.co/mp3-preview/252a7be97bc9172a...</td>\n",
       "      <td>https://open.spotify.com/track/6KgtcmCF9Ky68XC...</td>\n",
       "      <td>0.827</td>\n",
       "      <td>0.731</td>\n",
       "      <td>4</td>\n",
       "      <td>-5.524</td>\n",
       "      <td>0</td>\n",
       "      <td>0.0880</td>\n",
       "      <td>0.1300</td>\n",
       "      <td>0</td>\n",
       "      <td>0.4180</td>\n",
       "      <td>0.6070</td>\n",
       "      <td>118.992</td>\n",
       "      <td>172833</td>\n",
       "    </tr>\n",
       "    <tr>\n",
       "      <th>0</th>\n",
       "      <td>2021-08-18</td>\n",
       "      <td>Tiësto ft. KAROL G</td>\n",
       "      <td>Don't Be Shy</td>\n",
       "      <td>0bI7K9Becu2dtXK1Q3cZNB</td>\n",
       "      <td>75</td>\n",
       "      <td>https://p.scdn.co/mp3-preview/54889f56ba255f24...</td>\n",
       "      <td>https://open.spotify.com/track/0bI7K9Becu2dtXK...</td>\n",
       "      <td>0.770</td>\n",
       "      <td>0.787</td>\n",
       "      <td>11</td>\n",
       "      <td>-3.748</td>\n",
       "      <td>0</td>\n",
       "      <td>0.0583</td>\n",
       "      <td>0.1980</td>\n",
       "      <td>0</td>\n",
       "      <td>0.2620</td>\n",
       "      <td>0.5130</td>\n",
       "      <td>119.986</td>\n",
       "      <td>140500</td>\n",
       "    </tr>\n",
       "    <tr>\n",
       "      <th>0</th>\n",
       "      <td>2021-08-18</td>\n",
       "      <td>Elton John ft. Dua Lipa ft. PNAU</td>\n",
       "      <td>Cold Heart - PNAU Remix</td>\n",
       "      <td>6zSpb8dQRaw0M1dK8PBwQz</td>\n",
       "      <td>75</td>\n",
       "      <td>None</td>\n",
       "      <td>https://open.spotify.com/track/6zSpb8dQRaw0M1d...</td>\n",
       "      <td>0.796</td>\n",
       "      <td>0.798</td>\n",
       "      <td>1</td>\n",
       "      <td>-6.312</td>\n",
       "      <td>1</td>\n",
       "      <td>0.0317</td>\n",
       "      <td>0.0340</td>\n",
       "      <td>0.000042</td>\n",
       "      <td>0.0952</td>\n",
       "      <td>0.9420</td>\n",
       "      <td>116.032</td>\n",
       "      <td>202735</td>\n",
       "    </tr>\n",
       "    <tr>\n",
       "      <th>0</th>\n",
       "      <td>2021-08-18</td>\n",
       "      <td>PinkPantheress</td>\n",
       "      <td>Just for me</td>\n",
       "      <td>6OTKVgVpVaVjhRLYizPJKA</td>\n",
       "      <td>74</td>\n",
       "      <td>https://p.scdn.co/mp3-preview/c9f694a4a34dfcc1...</td>\n",
       "      <td>https://open.spotify.com/track/6OTKVgVpVaVjhRL...</td>\n",
       "      <td>0.778</td>\n",
       "      <td>0.628</td>\n",
       "      <td>0</td>\n",
       "      <td>-7.844</td>\n",
       "      <td>1</td>\n",
       "      <td>0.0618</td>\n",
       "      <td>0.7050</td>\n",
       "      <td>0.00193</td>\n",
       "      <td>0.2990</td>\n",
       "      <td>0.6980</td>\n",
       "      <td>133.048</td>\n",
       "      <td>115801</td>\n",
       "    </tr>\n",
       "    <tr>\n",
       "      <th>0</th>\n",
       "      <td>2021-08-18</td>\n",
       "      <td>The Killers</td>\n",
       "      <td>West Hills</td>\n",
       "      <td>5hiZJE6Fg14Wao6EJ0KUC8</td>\n",
       "      <td>60</td>\n",
       "      <td>None</td>\n",
       "      <td>https://open.spotify.com/track/5hiZJE6Fg14Wao6...</td>\n",
       "      <td>0.318</td>\n",
       "      <td>0.670</td>\n",
       "      <td>0</td>\n",
       "      <td>-6.306</td>\n",
       "      <td>0</td>\n",
       "      <td>0.0528</td>\n",
       "      <td>0.4750</td>\n",
       "      <td>0.00395</td>\n",
       "      <td>0.5770</td>\n",
       "      <td>0.1900</td>\n",
       "      <td>169.893</td>\n",
       "      <td>342013</td>\n",
       "    </tr>\n",
       "    <tr>\n",
       "      <th>...</th>\n",
       "      <td>...</td>\n",
       "      <td>...</td>\n",
       "      <td>...</td>\n",
       "      <td>...</td>\n",
       "      <td>...</td>\n",
       "      <td>...</td>\n",
       "      <td>...</td>\n",
       "      <td>...</td>\n",
       "      <td>...</td>\n",
       "      <td>...</td>\n",
       "      <td>...</td>\n",
       "      <td>...</td>\n",
       "      <td>...</td>\n",
       "      <td>...</td>\n",
       "      <td>...</td>\n",
       "      <td>...</td>\n",
       "      <td>...</td>\n",
       "      <td>...</td>\n",
       "      <td>...</td>\n",
       "    </tr>\n",
       "    <tr>\n",
       "      <th>0</th>\n",
       "      <td>2021-08-18</td>\n",
       "      <td>Jennifer Hudson</td>\n",
       "      <td>I Say A Little Prayer</td>\n",
       "      <td>5mwGeEwTdPZ0uMDab8YJkJ</td>\n",
       "      <td>33</td>\n",
       "      <td>https://p.scdn.co/mp3-preview/52230cc38f5d5db1...</td>\n",
       "      <td>https://open.spotify.com/track/5mwGeEwTdPZ0uMD...</td>\n",
       "      <td>0.642</td>\n",
       "      <td>0.700</td>\n",
       "      <td>9</td>\n",
       "      <td>-6.034</td>\n",
       "      <td>1</td>\n",
       "      <td>0.0306</td>\n",
       "      <td>0.2550</td>\n",
       "      <td>0.000409</td>\n",
       "      <td>0.0611</td>\n",
       "      <td>0.9250</td>\n",
       "      <td>132.982</td>\n",
       "      <td>221199</td>\n",
       "    </tr>\n",
       "    <tr>\n",
       "      <th>0</th>\n",
       "      <td>2021-08-18</td>\n",
       "      <td>Jennifer Hudson</td>\n",
       "      <td>Precious Memories</td>\n",
       "      <td>2AV8f5QE4wYWBiNWJovm7H</td>\n",
       "      <td>29</td>\n",
       "      <td>https://p.scdn.co/mp3-preview/31b26af51eea40e4...</td>\n",
       "      <td>https://open.spotify.com/track/2AV8f5QE4wYWBiN...</td>\n",
       "      <td>0.283</td>\n",
       "      <td>0.336</td>\n",
       "      <td>3</td>\n",
       "      <td>-12.091</td>\n",
       "      <td>1</td>\n",
       "      <td>0.0322</td>\n",
       "      <td>0.8750</td>\n",
       "      <td>0</td>\n",
       "      <td>0.3000</td>\n",
       "      <td>0.2720</td>\n",
       "      <td>96.437</td>\n",
       "      <td>117528</td>\n",
       "    </tr>\n",
       "    <tr>\n",
       "      <th>0</th>\n",
       "      <td>2021-08-18</td>\n",
       "      <td>Jennifer Hudson</td>\n",
       "      <td>Amazing Grace</td>\n",
       "      <td>4ueHG37Gma2HraxPyX15Yb</td>\n",
       "      <td>31</td>\n",
       "      <td>https://p.scdn.co/mp3-preview/c073bbadec9b6889...</td>\n",
       "      <td>https://open.spotify.com/track/4ueHG37Gma2Hrax...</td>\n",
       "      <td>0.213</td>\n",
       "      <td>0.240</td>\n",
       "      <td>8</td>\n",
       "      <td>-12.089</td>\n",
       "      <td>1</td>\n",
       "      <td>0.0319</td>\n",
       "      <td>0.8450</td>\n",
       "      <td>0.000267</td>\n",
       "      <td>0.0950</td>\n",
       "      <td>0.1570</td>\n",
       "      <td>98.780</td>\n",
       "      <td>303000</td>\n",
       "    </tr>\n",
       "    <tr>\n",
       "      <th>0</th>\n",
       "      <td>2021-08-18</td>\n",
       "      <td>Jennifer Hudson</td>\n",
       "      <td>Here I Am (Singing My Way Home)</td>\n",
       "      <td>6wLJiRkrSbqPzbNnrKSYNX</td>\n",
       "      <td>29</td>\n",
       "      <td>https://p.scdn.co/mp3-preview/f2a3ff9cfdf0324c...</td>\n",
       "      <td>https://open.spotify.com/track/6wLJiRkrSbqPzbN...</td>\n",
       "      <td>0.368</td>\n",
       "      <td>0.214</td>\n",
       "      <td>8</td>\n",
       "      <td>-12.987</td>\n",
       "      <td>1</td>\n",
       "      <td>0.0353</td>\n",
       "      <td>0.0624</td>\n",
       "      <td>0.00218</td>\n",
       "      <td>0.1040</td>\n",
       "      <td>0.0773</td>\n",
       "      <td>74.475</td>\n",
       "      <td>314290</td>\n",
       "    </tr>\n",
       "    <tr>\n",
       "      <th>0</th>\n",
       "      <td>2021-08-18</td>\n",
       "      <td>The Weeknd</td>\n",
       "      <td>Take My Breath</td>\n",
       "      <td>6OGogr19zPTM4BALXuMQpF</td>\n",
       "      <td>89</td>\n",
       "      <td>None</td>\n",
       "      <td>https://open.spotify.com/track/6OGogr19zPTM4BA...</td>\n",
       "      <td>0.748</td>\n",
       "      <td>0.740</td>\n",
       "      <td>8</td>\n",
       "      <td>-6.010</td>\n",
       "      <td>1</td>\n",
       "      <td>0.0484</td>\n",
       "      <td>0.0107</td>\n",
       "      <td>0.000022</td>\n",
       "      <td>0.1010</td>\n",
       "      <td>0.5180</td>\n",
       "      <td>121.004</td>\n",
       "      <td>220196</td>\n",
       "    </tr>\n",
       "  </tbody>\n",
       "</table>\n",
       "<p>205 rows × 19 columns</p>\n",
       "</div>"
      ],
      "text/plain": [
       "   date_of_scrape                            artist  \\\n",
       "0      2021-08-18                 Lizzo ft. Cardi B   \n",
       "0      2021-08-18                Tiësto ft. KAROL G   \n",
       "0      2021-08-18  Elton John ft. Dua Lipa ft. PNAU   \n",
       "0      2021-08-18                    PinkPantheress   \n",
       "0      2021-08-18                       The Killers   \n",
       "..            ...                               ...   \n",
       "0      2021-08-18                   Jennifer Hudson   \n",
       "0      2021-08-18                   Jennifer Hudson   \n",
       "0      2021-08-18                   Jennifer Hudson   \n",
       "0      2021-08-18                   Jennifer Hudson   \n",
       "0      2021-08-18                        The Weeknd   \n",
       "\n",
       "                               name                track_id popularity  \\\n",
       "0            Rumors (feat. Cardi B)  6KgtcmCF9Ky68XC7ezxl3s         81   \n",
       "0                      Don't Be Shy  0bI7K9Becu2dtXK1Q3cZNB         75   \n",
       "0           Cold Heart - PNAU Remix  6zSpb8dQRaw0M1dK8PBwQz         75   \n",
       "0                       Just for me  6OTKVgVpVaVjhRLYizPJKA         74   \n",
       "0                        West Hills  5hiZJE6Fg14Wao6EJ0KUC8         60   \n",
       "..                              ...                     ...        ...   \n",
       "0             I Say A Little Prayer  5mwGeEwTdPZ0uMDab8YJkJ         33   \n",
       "0                 Precious Memories  2AV8f5QE4wYWBiNWJovm7H         29   \n",
       "0                     Amazing Grace  4ueHG37Gma2HraxPyX15Yb         31   \n",
       "0   Here I Am (Singing My Way Home)  6wLJiRkrSbqPzbNnrKSYNX         29   \n",
       "0                    Take My Breath  6OGogr19zPTM4BALXuMQpF         89   \n",
       "\n",
       "                                          preview_url  \\\n",
       "0   https://p.scdn.co/mp3-preview/252a7be97bc9172a...   \n",
       "0   https://p.scdn.co/mp3-preview/54889f56ba255f24...   \n",
       "0                                                None   \n",
       "0   https://p.scdn.co/mp3-preview/c9f694a4a34dfcc1...   \n",
       "0                                                None   \n",
       "..                                                ...   \n",
       "0   https://p.scdn.co/mp3-preview/52230cc38f5d5db1...   \n",
       "0   https://p.scdn.co/mp3-preview/31b26af51eea40e4...   \n",
       "0   https://p.scdn.co/mp3-preview/c073bbadec9b6889...   \n",
       "0   https://p.scdn.co/mp3-preview/f2a3ff9cfdf0324c...   \n",
       "0                                                None   \n",
       "\n",
       "                                          spotify_url  danceability  energy  \\\n",
       "0   https://open.spotify.com/track/6KgtcmCF9Ky68XC...         0.827   0.731   \n",
       "0   https://open.spotify.com/track/0bI7K9Becu2dtXK...         0.770   0.787   \n",
       "0   https://open.spotify.com/track/6zSpb8dQRaw0M1d...         0.796   0.798   \n",
       "0   https://open.spotify.com/track/6OTKVgVpVaVjhRL...         0.778   0.628   \n",
       "0   https://open.spotify.com/track/5hiZJE6Fg14Wao6...         0.318   0.670   \n",
       "..                                                ...           ...     ...   \n",
       "0   https://open.spotify.com/track/5mwGeEwTdPZ0uMD...         0.642   0.700   \n",
       "0   https://open.spotify.com/track/2AV8f5QE4wYWBiN...         0.283   0.336   \n",
       "0   https://open.spotify.com/track/4ueHG37Gma2Hrax...         0.213   0.240   \n",
       "0   https://open.spotify.com/track/6wLJiRkrSbqPzbN...         0.368   0.214   \n",
       "0   https://open.spotify.com/track/6OGogr19zPTM4BA...         0.748   0.740   \n",
       "\n",
       "   key  loudness mode  speechiness  acousticness instrumentalness  liveness  \\\n",
       "0    4    -5.524    0       0.0880        0.1300                0    0.4180   \n",
       "0   11    -3.748    0       0.0583        0.1980                0    0.2620   \n",
       "0    1    -6.312    1       0.0317        0.0340         0.000042    0.0952   \n",
       "0    0    -7.844    1       0.0618        0.7050          0.00193    0.2990   \n",
       "0    0    -6.306    0       0.0528        0.4750          0.00395    0.5770   \n",
       "..  ..       ...  ...          ...           ...              ...       ...   \n",
       "0    9    -6.034    1       0.0306        0.2550         0.000409    0.0611   \n",
       "0    3   -12.091    1       0.0322        0.8750                0    0.3000   \n",
       "0    8   -12.089    1       0.0319        0.8450         0.000267    0.0950   \n",
       "0    8   -12.987    1       0.0353        0.0624          0.00218    0.1040   \n",
       "0    8    -6.010    1       0.0484        0.0107         0.000022    0.1010   \n",
       "\n",
       "    valence    tempo duration_ms  \n",
       "0    0.6070  118.992      172833  \n",
       "0    0.5130  119.986      140500  \n",
       "0    0.9420  116.032      202735  \n",
       "0    0.6980  133.048      115801  \n",
       "0    0.1900  169.893      342013  \n",
       "..      ...      ...         ...  \n",
       "0    0.9250  132.982      221199  \n",
       "0    0.2720   96.437      117528  \n",
       "0    0.1570   98.780      303000  \n",
       "0    0.0773   74.475      314290  \n",
       "0    0.5180  121.004      220196  \n",
       "\n",
       "[205 rows x 19 columns]"
      ]
     },
     "execution_count": 224,
     "metadata": {},
     "output_type": "execute_result"
    }
   ],
   "source": [
    "new_releases_df"
   ]
  },
  {
   "cell_type": "markdown",
   "id": "fe601243",
   "metadata": {},
   "source": [
    "# Others"
   ]
  },
  {
   "cell_type": "code",
   "execution_count": 17,
   "id": "7d9d3a98",
   "metadata": {
    "ExecuteTime": {
     "end_time": "2021-08-24T15:26:59.746789Z",
     "start_time": "2021-08-24T15:26:59.668699Z"
    }
   },
   "outputs": [
    {
     "data": {
      "text/plain": [
       "{'external_urls': {'spotify': 'https://open.spotify.com/artist/6mS5GeFyhea6w9OKo8PO3p'},\n",
       " 'followers': {'href': None, 'total': 16271},\n",
       " 'genres': ['piratenmuziek'],\n",
       " 'href': 'https://api.spotify.com/v1/artists/6mS5GeFyhea6w9OKo8PO3p',\n",
       " 'id': '6mS5GeFyhea6w9OKo8PO3p',\n",
       " 'images': [{'height': 640,\n",
       "   'url': 'https://i.scdn.co/image/ab6761610000e5eb1ef4c49ccd5f2092e18a5d3a',\n",
       "   'width': 640},\n",
       "  {'height': 320,\n",
       "   'url': 'https://i.scdn.co/image/ab676161000051741ef4c49ccd5f2092e18a5d3a',\n",
       "   'width': 320},\n",
       "  {'height': 160,\n",
       "   'url': 'https://i.scdn.co/image/ab6761610000f1781ef4c49ccd5f2092e18a5d3a',\n",
       "   'width': 160}],\n",
       " 'name': 'Goldband',\n",
       " 'popularity': 55,\n",
       " 'type': 'artist',\n",
       " 'uri': 'spotify:artist:6mS5GeFyhea6w9OKo8PO3p'}"
      ]
     },
     "execution_count": 17,
     "metadata": {},
     "output_type": "execute_result"
    }
   ],
   "source": [
    "# artist popularity\n",
    "spotify.artist(\"https://open.spotify.com/artist/6mS5GeFyhea6w9OKo8PO3p?si=tZnuKuf_QjSLcDZosNxQhQ&dl_branch=1\")"
   ]
  },
  {
   "cell_type": "code",
   "execution_count": 16,
   "id": "40eb6722",
   "metadata": {
    "ExecuteTime": {
     "end_time": "2021-08-24T15:18:25.505168Z",
     "start_time": "2021-08-24T15:18:25.464827Z"
    }
   },
   "outputs": [
    {
     "data": {
      "text/plain": [
       "'2021-08-13'"
      ]
     },
     "execution_count": 16,
     "metadata": {},
     "output_type": "execute_result"
    }
   ],
   "source": [
    "# release date of a track\n",
    "spotify.track(\"6KgtcmCF9Ky68XC7ezxl3s\")[\"album\"][\"release_date\"]"
   ]
  },
  {
   "cell_type": "markdown",
   "id": "57c4adfd",
   "metadata": {},
   "source": [
    "# Manage playlist\n",
    "The resulting predicted playlist can also be created and managed via spotipy! See: https://spotipy.readthedocs.io/en/2.18.0/.  \n",
    "For instance with playlist_add_items, playlist_change_details, playlist_remove_all_occurences_of_itmes etc."
   ]
  }
 ],
 "metadata": {
  "kernelspec": {
   "display_name": "Python 3 (ipykernel)",
   "language": "python",
   "name": "python3"
  },
  "language_info": {
   "codemirror_mode": {
    "name": "ipython",
    "version": 3
   },
   "file_extension": ".py",
   "mimetype": "text/x-python",
   "name": "python",
   "nbconvert_exporter": "python",
   "pygments_lexer": "ipython3",
   "version": "3.9.6"
  },
  "toc": {
   "base_numbering": 1,
   "nav_menu": {},
   "number_sections": true,
   "sideBar": true,
   "skip_h1_title": false,
   "title_cell": "Table of Contents",
   "title_sidebar": "Contents",
   "toc_cell": false,
   "toc_position": {},
   "toc_section_display": true,
   "toc_window_display": true
  },
  "varInspector": {
   "cols": {
    "lenName": 16,
    "lenType": 16,
    "lenVar": 40
   },
   "kernels_config": {
    "python": {
     "delete_cmd_postfix": "",
     "delete_cmd_prefix": "del ",
     "library": "var_list.py",
     "varRefreshCmd": "print(var_dic_list())"
    },
    "r": {
     "delete_cmd_postfix": ") ",
     "delete_cmd_prefix": "rm(",
     "library": "var_list.r",
     "varRefreshCmd": "cat(var_dic_list()) "
    }
   },
   "types_to_exclude": [
    "module",
    "function",
    "builtin_function_or_method",
    "instance",
    "_Feature"
   ],
   "window_display": false
  }
 },
 "nbformat": 4,
 "nbformat_minor": 5
}
